{
 "cells": [
  {
   "cell_type": "markdown",
   "metadata": {},
   "source": [
    "# Conjetura de Goldbach y Números Narcisistas\n",
    "Susana Regalado & Katia Rodríguez <br>\n",
    "\n",
    "---\n",
    "---"
   ]
  },
  {
   "cell_type": "markdown",
   "metadata": {},
   "source": [
    "### Este programa revisará si el número ingresado es un Número narcisista, asi tambien sabremos si cumple con la Conjetura de Goldbach y si es así dará las parejas de primos posibles."
   ]
  },
  {
   "cell_type": "code",
   "execution_count": 13,
   "metadata": {},
   "outputs": [],
   "source": [
    "def is_prime(n):\n",
    "    i = 2 #Empieza a contar a partir de 2\n",
    "    isprime = True\n",
    "\n",
    "    while i < n: #Realizamos un bucle while que nos defina si no primo.\n",
    "        if n % i == 0: #Se divide cualquier natural entre la variable i (resto de la división y se compara con el 0).\n",
    "            isprime = False #Entonces imprime que es falso.\n",
    "            break #Rompe el ciclo.\n",
    "        else: #Si el ciclo while no se cumple, entonces es primo.\n",
    "            i = i + 1\n",
    "    return isprime\n",
    "i = 2\n",
    "\n",
    "#En esta parte definimos en una función qué es un número primo."
   ]
  },
  {
   "cell_type": "code",
   "execution_count": null,
   "metadata": {},
   "outputs": [
    {
     "name": "stdout",
     "output_type": "stream",
     "text": [
      "Este programa revisará si el número ingresado en un Número narcisista, ademas de si el número cumple con la Conjetura de Goldbach.\n"
     ]
    }
   ],
   "source": [
    "print('Este programa revisará si el número ingresado en un Número narcisista, ademas de si el número cumple con la Conjetura de Goldbach.')\n",
    "num = int(input('Ingrese un número par mayor que 2: ')) #El programa nos pide ingresar un número entero mayor a 2.\n",
    "\n",
    "#Aquí revisaremos si el número ingresado cumple con la Conjetura de Goldbach y si la cumple regresará las parejas de números primos.\n",
    "\n",
    "if num % 2 == 0 and num > 2: #Definimos el resto de la division del numero entre 2 y lo comparamos a 0 y ademas el numero es mayor a 2.\n",
    "    encontrado = False #Definimos la variable \"encontrado\" fuera del ciclo siendo igual a \"false\" por si hubiera un numero par que no cumpla la condición.\n",
    "    for a in range(2, num): #En un ciclo for definimos una variable \"a\" en un rango de 2 al número ingresado por el usuario.\n",
    "        if is_prime(a): #Si \"a\" es primo\n",
    "            b = num - a #Entonces \"b\" será la variable del número ingresado menos \"a\".\n",
    "            if is_prime(b): #Entonces \"b\" es primo\n",
    "                encontrado = True #Si \"encontrado\" es \"True\"\n",
    "                if a <= b: #Si \"a\" es menor o igual a \"b\" (esto es debido a que si \"a\" comienza a ser mayor que \"b\" las parejas se repiten en distinto orden.)\n",
    "                    print('Pareja de primos que cumple Conjetura de Goldbach:', a, b) #Se imprimen las parejas de primos.\n",
    "    if not encontrado: #Fuera del ciclo, si \"encontrado\" no se cumple.\n",
    "        print('No se ha encontrado nunguna pareja') #Entonces se imprime que no se ha encontrado ninguna pareja de primos.\n",
    "else:\n",
    "    print('No es un número válido') #Por el contrario, si es un número no par, es decir impar, entonces se imprime que no es un número valido. \n",
    "    \n",
    "#En esta parte revisaremos si en o no un Número Narcisista\n",
    "\n",
    "n = len(str(num)) #Revisa cuantos números de digitos son del número ingresado\n",
    "sum = 0 #Inicia la suma desde 0\n",
    "\n",
    "var = num\n",
    "while var > 0: #El número tiene que ser mayor a 0\n",
    "   digit = var % 10 #Número de dígitos\n",
    "   sum += digit ** n #Calcula la suma del cubo de cada dígito del número\n",
    "   var //= 10 #\"var\" tiene que ser dividido entre 10 y al final se agregará ese valor a \"var\"\n",
    "\n",
    "if num == sum:\n",
    "   print(num, 'es un número de Armstrong') #Imprime si es un número de Armstrong\n",
    "else:\n",
    "   print(num, 'no es un número de Armstrong') #Imprime si no es un número de Armstrong"
   ]
  },
  {
   "cell_type": "code",
   "execution_count": null,
   "metadata": {},
   "outputs": [],
   "source": []
  }
 ],
 "metadata": {
  "kernelspec": {
   "display_name": "Python 3",
   "language": "python",
   "name": "python3"
  },
  "language_info": {
   "codemirror_mode": {
    "name": "ipython",
    "version": 3
   },
   "file_extension": ".py",
   "mimetype": "text/x-python",
   "name": "python",
   "nbconvert_exporter": "python",
   "pygments_lexer": "ipython3",
   "version": "3.8.3"
  }
 },
 "nbformat": 4,
 "nbformat_minor": 4
}
