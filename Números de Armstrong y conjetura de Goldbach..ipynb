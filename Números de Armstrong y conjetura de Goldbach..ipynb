{
 "cells": [
  {
   "cell_type": "code",
   "execution_count": 1,
   "metadata": {},
   "outputs": [],
   "source": [
    "import numpy as np"
   ]
  },
  {
   "cell_type": "code",
   "execution_count": 3,
   "metadata": {},
   "outputs": [],
   "source": [
    "def is_prime(n):\n",
    "    i = 2\n",
    "    isprime = True\n",
    "\n",
    "    while i < n: #Realizamos un bucle while que nos defina un número que no es primo.\n",
    "        if n % i == 0: #se divide cualquier natural entre la variable i (resto de la división y se compara con el 0)\n",
    "            isprime = False #Entonces imprime que es falso.\n",
    "            break #salimos del ciclo.\n",
    "        else: #Si el ciclo while no se cumple, entonces de nuevo es primo.\n",
    "            i = i + 1\n",
    "    return isprime\n",
    "i = 2\n",
    "\n",
    "#Basicamente en esta parte definimos en una función qué es un número primo."
   ]
  },
  {
   "cell_type": "code",
   "execution_count": null,
   "metadata": {},
   "outputs": [],
   "source": [
    "num = int(input('Número par mayor que 2: ')) \n",
    "#El programa nos pide ingresar un número entero mayor a 2.\n",
    "\n",
    "if num % 2 == 0 and num > 2: # Definimos el resto de la division del numero entre 2 y lo comparamos a 0 y ademas el numero es mayor a 2.\n",
    "    encontrado = False #definimos la variable \"encontrado\" fuera del ciclo siendo igual a \"false\" por si hubiera un numero par que no cumpla la condición.\n",
    "    for a in range(2, num): # En un ciclo for definimos una variable a en un rango de 2 al número (no incluido).\n",
    "        if is_prime(a): # si a es primo\n",
    "            b = num - a # entonces b va a ser el numero menos a.\n",
    "            if is_prime(b): # entonces b es primo\n",
    "                encontrado = True # Si b es primo, entonces encontrado es \"true\"\n",
    "                if a <= b: # si a es menor o igual a b (esto debido a que si a comienza a ser mayor que b las parejas se repiten en distinto orden.)\n",
    "                    print('Primos', a, b)# se imprimen los primos a y b\n",
    "    if not encontrado: #Sí fuera del ciclo \"encontrado\" no se cumple\n",
    "        print('No se ha encontrado nunguna pareja')# entonces se imprime que no se ha encontrado una pareja de primos.\n",
    "else:\n",
    "    print('No es un número válido') #si por el contrario, no se cumple, y es un número no par, es decir impar, entonces se imprime que no es un número valido. \n",
    "    \n",
    "\n",
    "n = len(str(num))\n",
    "sum = 0\n",
    "\n",
    "temp = num\n",
    "while temp > 0:\n",
    "   digit = temp % 10\n",
    "   sum += digit ** n\n",
    "   temp //= 10\n",
    "\n",
    "if num == sum:\n",
    "   print(num, 'es un número de Armstrong')\n",
    "else:\n",
    "   print(num,'no es un número de Armstrong')\n"
   ]
  },
  {
   "cell_type": "code",
   "execution_count": null,
   "metadata": {},
   "outputs": [],
   "source": []
  }
 ],
 "metadata": {
  "kernelspec": {
   "display_name": "Python 3",
   "language": "python",
   "name": "python3"
  },
  "language_info": {
   "codemirror_mode": {
    "name": "ipython",
    "version": 3
   },
   "file_extension": ".py",
   "mimetype": "text/x-python",
   "name": "python",
   "nbconvert_exporter": "python",
   "pygments_lexer": "ipython3",
   "version": "3.8.3"
  }
 },
 "nbformat": 4,
 "nbformat_minor": 4
}
