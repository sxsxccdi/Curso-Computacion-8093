{
 "cells": [
  {
   "cell_type": "markdown",
   "metadata": {},
   "source": [
    "## Práctica 2: Trabajo con archivos (redireccionamiento, búsqueda, filtros y permisos)"
   ]
  },
  {
   "cell_type": "markdown",
   "metadata": {},
   "source": [
    "## Cat, Head, Tail"
   ]
  },
  {
   "cell_type": "markdown",
   "metadata": {},
   "source": [
    "1. Copia el archivo (utilizando comandos de bash) que se encuentra en `directorio/TLALPAN/sectorH/names_2009-08-30.txt` a la carpeta `Resultado`.  \n",
    "\n",
    " \n",
    "    "
   ]
  },
  {
   "cell_type": "code",
   "execution_count": 2,
   "metadata": {},
   "outputs": [
    {
     "data": {
      "text/plain": [
       "'C:\\\\Users\\\\Ignacio\\\\Documents\\\\Pochas\\\\Computacion'"
      ]
     },
     "execution_count": 2,
     "metadata": {},
     "output_type": "execute_result"
    }
   ],
   "source": [
    "pwd\n"
   ]
  },
  {
   "cell_type": "code",
   "execution_count": 3,
   "metadata": {},
   "outputs": [
    {
     "name": "stdout",
     "output_type": "stream",
     "text": [
      "C:\\Users\\Ignacio\\Documents\\Pochas\\Computacion2020-8093\\Practicas\n"
     ]
    }
   ],
   "source": [
    "cd \\Users\\Ignacio\\Documents\\Pochas\\Computacion2020-8093\\Practicas"
   ]
  },
  {
   "cell_type": "code",
   "execution_count": 4,
   "metadata": {},
   "outputs": [
    {
     "name": "stderr",
     "output_type": "stream",
     "text": [
      "Ya existe el subdirectorio o el archivo Resultado.\n"
     ]
    }
   ],
   "source": [
    "mkdir Resultado\n"
   ]
  },
  {
   "cell_type": "code",
   "execution_count": 5,
   "metadata": {},
   "outputs": [],
   "source": [
    "%%bash\n",
    "cp directorio/TLALPAN/sectorH/names_2002-04-15.txt  Resultado/"
   ]
  },
  {
   "cell_type": "markdown",
   "metadata": {},
   "source": [
    "Use el archivo 2002 porque no encontre el el de 2009 :c"
   ]
  },
  {
   "cell_type": "markdown",
   "metadata": {},
   "source": [
    " \n",
    "\n",
    "2. Ahora colócate en el directorio `Resultado` y ejecuta los siguientes comandos, para responder a las siguientes preguntas:  \n",
    "    "
   ]
  },
  {
   "cell_type": "code",
   "execution_count": 6,
   "metadata": {},
   "outputs": [
    {
     "name": "stdout",
     "output_type": "stream",
     "text": [
      "C:\\Users\\Ignacio\\Documents\\Pochas\\Computacion2020-8093\\Practicas\\Resultado\n"
     ]
    }
   ],
   "source": [
    "cd Resultado"
   ]
  },
  {
   "cell_type": "markdown",
   "metadata": {},
   "source": [
    "¿Cuál es el resultado de ejecutar los siguientes comandos en la terminal? \n",
    "\n",
    "    a) `cat < names_2009-08-30.txt > names_cat.txt`\n",
    "    \n",
    "    b) `cat < names_2009-08-30.txt >> names_cat.txt`"
   ]
  },
  {
   "cell_type": "code",
   "execution_count": 7,
   "metadata": {},
   "outputs": [],
   "source": [
    "%%bash \n",
    "cat < names_2002-04-15.txt > names_cat.txt"
   ]
  },
  {
   "cell_type": "markdown",
   "metadata": {},
   "source": [
    "Creo un archivo llamado names_cat.txt con el contenido del archivo names_2002-04-15.txt"
   ]
  },
  {
   "cell_type": "code",
   "execution_count": 8,
   "metadata": {},
   "outputs": [],
   "source": [
    "%%bash \n",
    "cat < names_2002-04-15.txt >> names_cat.txt"
   ]
  },
  {
   "cell_type": "markdown",
   "metadata": {},
   "source": [
    "Redirecciono la salida del archivo names_2002-04-15 al archivo existente names_cat.txt"
   ]
  },
  {
   "cell_type": "markdown",
   "metadata": {},
   "source": [
    "3. ¿Cuál es la diferencia entre ambos? Explícalo con tus propias palabras. "
   ]
  },
  {
   "cell_type": "markdown",
   "metadata": {},
   "source": [
    "La diferencia del primer comando al segundo es que el primero solo tiene un > y el segundo dos >>, entonces el primero redirecciona la salida de un programa a un archivo. \n",
    "El segundo comando redirecciona la salida de un programa a un archivo, pero si este lo crea y si el archivo ya existe el resultado del comando lo añade al final del archivo existente sin eliminar el contenido de este."
   ]
  },
  {
   "cell_type": "markdown",
   "metadata": {},
   "source": [
    "4. ¿Cuál es la diferencia entre estos comandos?\n",
    " \n",
    "    a) `cat names.txt 2> err.dat`\n",
    "    \n",
    "    b) `cata names.txt 2> err.dat`\n",
    "    "
   ]
  },
  {
   "cell_type": "markdown",
   "metadata": {},
   "source": [
    "Para empezar uno tiene elcomando cat y el otro el comando cata, el 2> sigifica Stderr o standar error y es otra secuencia de salida que suelen utilizar los programas para generar mensajes de error o diagnósticos. "
   ]
  },
  {
   "cell_type": "markdown",
   "metadata": {},
   "source": [
    "5. Por último ejecuta: `cat > feliz` enseguida escibre algo y luego ejecuta `Ctrl+D` dos veces. ¿qué fue lo que sucedio?"
   ]
  },
  {
   "cell_type": "markdown",
   "metadata": {},
   "source": [
    "Se borró lo que había escrito. "
   ]
  },
  {
   "cell_type": "markdown",
   "metadata": {},
   "source": [
    "6. ¿Existe algúna forma, con los comandos de bash, de mostrar el archivo de forma inversa? En caso de existir, utilízalo para ver el archivo `directorio/COYOACAN/sectorG/names_2005-09-27.txt` y guarda la salida en el archivo `catinverso.dat` "
   ]
  },
  {
   "cell_type": "code",
   "execution_count": 10,
   "metadata": {},
   "outputs": [],
   "source": [
    "%%bash\n",
    "tac directorio/COYOACAN/sectorG/names_2007-05-01.txt > Resultado/Catinverso.dat"
   ]
  },
  {
   "cell_type": "markdown",
   "metadata": {},
   "source": [
    "Lo hice con el archivo 2007 porque el 2005 no existía. :c "
   ]
  },
  {
   "cell_type": "markdown",
   "metadata": {},
   "source": [
    "7. Crea un solo archivo con el nombre _todosarchivos.txt_ que tenga el contenido de todos los archivos del directorio `directorio/CUAUHTEMOC/sectorE/` "
   ]
  },
  {
   "cell_type": "markdown",
   "metadata": {},
   "source": [
    "\n",
    "touch todosarchivos.txt"
   ]
  },
  {
   "cell_type": "markdown",
   "metadata": {},
   "source": [
    "\n",
    "cat directorio/CUAUHTEMOC/sectorE/*.* > Resultado/todosarchivos.txt"
   ]
  },
  {
   "cell_type": "markdown",
   "metadata": {},
   "source": [
    "8. Coloca en un archivo con el nombre `colacabeza` las primeras 23 líneas numeradas y las últimas 32 líneas numeradas del archivo `todosarchivos.txt`\n",
    " \n",
    " \n",
    "*Opcional*: Numera las líneas.  Genera un archivo donde se indiquen con numeros las líneas de este archivo."
   ]
  },
  {
   "cell_type": "markdown",
   "metadata": {},
   "source": [
    "\n",
    "head -23 todosarchivos.txt > colacabeza"
   ]
  },
  {
   "cell_type": "markdown",
   "metadata": {},
   "source": [
    "\n",
    "tail -32 todosarchivos.txt > colacabeza"
   ]
  },
  {
   "cell_type": "markdown",
   "metadata": {},
   "source": [
    "## PERMISOS"
   ]
  },
  {
   "cell_type": "markdown",
   "metadata": {},
   "source": [
    "9. Explica que hace el comando `umask` y pon un ejemplo de su uso. "
   ]
  },
  {
   "cell_type": "markdown",
   "metadata": {},
   "source": [
    "Es la abreviatura de user file-creation mode mask, y sirve para establecer los permisos por defecto que tendrán los nuevos ficheros y directorios que creemos."
   ]
  },
  {
   "cell_type": "markdown",
   "metadata": {},
   "source": [
    "Ejemplo: umask u+rwx,g+rw,o+r"
   ]
  },
  {
   "cell_type": "markdown",
   "metadata": {},
   "source": [
    "10. Copia la carpeta `CUAUHTEMOC` dentro de `Resultados/` y cambia los permisos de todos los archivos de la siguiente manera sólo lectura y escritura para el dueño, sólo ejecución para el grupo y sólo lectura para los demás."
   ]
  },
  {
   "cell_type": "markdown",
   "metadata": {},
   "source": [
    "\n",
    "cp -r directorio/CUAUHTEMOC/ Resultado/"
   ]
  },
  {
   "cell_type": "code",
   "execution_count": 57,
   "metadata": {},
   "outputs": [],
   "source": [
    "%%bash\n",
    "chmod 614 CUAUHTEMOC\n"
   ]
  },
  {
   "cell_type": "markdown",
   "metadata": {},
   "source": [
    "11. Cambia los permisos (por el método octal) de todos los archivos con terminación __.txt__ dentro de la carpeta `CUAUHTEMOC/sectorG/`, de tal manera que el dueño tenga lectura, escritura y ejecución, sólo lectura para el grupo y ningún permiso para los demás."
   ]
  },
  {
   "cell_type": "code",
   "execution_count": 55,
   "metadata": {},
   "outputs": [],
   "source": [
    "%%bash\n",
    "chmod 740 *.txt* CUAUHTEMOC/sectorG/"
   ]
  },
  {
   "cell_type": "markdown",
   "metadata": {},
   "source": [
    "12. Cambia los permisos de todos los archivos con terminación __.dat__ dentro de la carpeta `CUAUHTEMOC/sectorP/`, de tal manera que el dueño tenga todos los permisos, sólo ejecución para el grupo y sólo lectura  para los demás. Aplica un `ls -l` para ver el resultado y guarda eso en un archivo con nombre `permisos.dat`"
   ]
  },
  {
   "cell_type": "code",
   "execution_count": 56,
   "metadata": {},
   "outputs": [],
   "source": [
    "%%bash\n",
    "chmod 714 *.dat* CUAUHTEMOC/sectorP/"
   ]
  },
  {
   "cell_type": "markdown",
   "metadata": {},
   "source": [
    "Profesor, por alguna razon no se cambiaron los permisos aunque el comando estuviera bien, lo vimos el jueves. :c"
   ]
  },
  {
   "cell_type": "markdown",
   "metadata": {},
   "source": [
    "13. Utiliza el método (númerico o simbólico) que quieras para cambiar los permisos de todos los archivos en cuyo nombre este la fecha de mayo (05) que están dentro de la carpetas `CUAUHTEMOC/sectorP/` y `CUAUHTEMOC/sectorO/`. Los permisos deberán quedar de la siguiente manera todos los permisos para el dueño y ningún permiso para el grupo y los demás usuarios."
   ]
  },
  {
   "cell_type": "code",
   "execution_count": 59,
   "metadata": {},
   "outputs": [],
   "source": [
    "%%bash\n",
    "grep -r 05 | chmod 700 CUAUHTEMOC/sectorP/\n"
   ]
  },
  {
   "cell_type": "code",
   "execution_count": 60,
   "metadata": {},
   "outputs": [],
   "source": [
    "%%bash \n",
    "grep -r 05 | chmod 700 CUAUHTEMOC/sectorO/"
   ]
  },
  {
   "cell_type": "markdown",
   "metadata": {},
   "source": [
    "\n",
    "\n",
    "## find y grep"
   ]
  },
  {
   "cell_type": "markdown",
   "metadata": {},
   "source": [
    "14. ¿Cuántos archivos tienen una extensión de `.txt` y cuántos tienen una extension `.dat`?"
   ]
  },
  {
   "cell_type": "code",
   "execution_count": 18,
   "metadata": {},
   "outputs": [
    {
     "name": "stdout",
     "output_type": "stream",
     "text": [
      "2040\n"
     ]
    }
   ],
   "source": [
    "%%bash\n",
    "find -name *.txt* | wc -l\n"
   ]
  },
  {
   "cell_type": "code",
   "execution_count": 19,
   "metadata": {},
   "outputs": [
    {
     "name": "stdout",
     "output_type": "stream",
     "text": [
      "2124\n"
     ]
    }
   ],
   "source": [
    "%%bash\n",
    "find -name *.dat* | wc -l"
   ]
  },
  {
   "cell_type": "markdown",
   "metadata": {},
   "source": [
    "15. ¿Cuántos veces aparece _tu nombre_ (sin apellido) en todos los archivos? "
   ]
  },
  {
   "cell_type": "code",
   "execution_count": 20,
   "metadata": {},
   "outputs": [
    {
     "name": "stdout",
     "output_type": "stream",
     "text": [
      "4166\n"
     ]
    }
   ],
   "source": [
    "%%bash \n",
    "grep -r -c Susana | wc -l"
   ]
  },
  {
   "cell_type": "markdown",
   "metadata": {},
   "source": [
    "16. ¿En cuántos archivos __NO__ aparecen tus nombres?"
   ]
  },
  {
   "cell_type": "code",
   "execution_count": 21,
   "metadata": {},
   "outputs": [
    {
     "name": "stdout",
     "output_type": "stream",
     "text": [
      "166561\n"
     ]
    }
   ],
   "source": [
    "%%bash\n",
    "grep -r -v Susana | wc -l"
   ]
  },
  {
   "cell_type": "markdown",
   "metadata": {},
   "source": [
    "17. ¿Cuántos veces coincide tus nombres con un archivo que tenga el año de tu nacimiento?"
   ]
  },
  {
   "cell_type": "code",
   "execution_count": 23,
   "metadata": {},
   "outputs": [
    {
     "name": "stdout",
     "output_type": "stream",
     "text": [
      "54\n"
     ]
    }
   ],
   "source": [
    "%%bash\n",
    "grep -r Susana | grep -r 2002 | wc -l\n"
   ]
  },
  {
   "cell_type": "markdown",
   "metadata": {},
   "source": [
    "18. ¿De cuántos directorios y subdirectorios está compuesta la base de datos?"
   ]
  },
  {
   "cell_type": "code",
   "execution_count": 25,
   "metadata": {},
   "outputs": [
    {
     "name": "stdout",
     "output_type": "stream",
     "text": [
      "17\n"
     ]
    }
   ],
   "source": [
    "%%bash\n",
    "ls | wc -l"
   ]
  },
  {
   "cell_type": "markdown",
   "metadata": {},
   "source": [
    "19. ¿Cuántos archivos tienen un tamaño menor a 1150 bytes?"
   ]
  },
  {
   "cell_type": "code",
   "execution_count": 32,
   "metadata": {},
   "outputs": [
    {
     "name": "stdout",
     "output_type": "stream",
     "text": [
      "0\n"
     ]
    }
   ],
   "source": [
    "%%bash\n",
    "grep -r -size-1150c | wc -l"
   ]
  },
  {
   "cell_type": "markdown",
   "metadata": {},
   "source": [
    "20. ¿Cuántos archivos coinciden con el año 2020 en su nombre y además pertencen al `sectorS`?"
   ]
  },
  {
   "cell_type": "code",
   "execution_count": 4,
   "metadata": {},
   "outputs": [
    {
     "name": "stdout",
     "output_type": "stream",
     "text": [
      "1\n"
     ]
    }
   ],
   "source": [
    "%%bash\n",
    "grep -r 2020 | grep -c *sectorS* | wc -w"
   ]
  }
 ],
 "metadata": {
  "kernelspec": {
   "display_name": "Python 3",
   "language": "python",
   "name": "python3"
  },
  "language_info": {
   "codemirror_mode": {
    "name": "ipython",
    "version": 3
   },
   "file_extension": ".py",
   "mimetype": "text/x-python",
   "name": "python",
   "nbconvert_exporter": "python",
   "pygments_lexer": "ipython3",
   "version": "3.8.3"
  }
 },
 "nbformat": 4,
 "nbformat_minor": 4
}
