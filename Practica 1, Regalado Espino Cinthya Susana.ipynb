{
 "cells": [
  {
   "cell_type": "markdown",
   "metadata": {},
   "source": [
    "Fechas y Calendario."
   ]
  },
  {
   "cell_type": "code",
   "execution_count": 7,
   "metadata": {},
   "outputs": [
    {
     "name": "stdout",
     "output_type": "stream",
     "text": [
      "root\n"
     ]
    }
   ],
   "source": [
    "%%bash\n",
    "whoami"
   ]
  },
  {
   "cell_type": "code",
   "execution_count": 3,
   "metadata": {},
   "outputs": [
    {
     "name": "stdout",
     "output_type": "stream",
     "text": [
      "Tue Oct 13 17:38:59 CDT 2020\n"
     ]
    }
   ],
   "source": [
    "%%bash\n",
    "date"
   ]
  },
  {
   "cell_type": "markdown",
   "metadata": {},
   "source": [
    "CDT: Central Day Light Time.\n",
    "UTC: Universal Coordinated Time."
   ]
  },
  {
   "cell_type": "code",
   "execution_count": 8,
   "metadata": {},
   "outputs": [
    {
     "name": "stdout",
     "output_type": "stream",
     "text": [
      "   February 1911      \n",
      "Su Mo Tu We Th Fr Sa  \n",
      "          1  2  3  4  \n",
      " 5  6  7  8  9 10 11  \n",
      "12 13 14 15 16 17 18  \n",
      "19 20 21 22 23 24 25  \n",
      "26 27 28              \n",
      "                      \n"
     ]
    }
   ],
   "source": [
    "%%bash\n",
    "cal 02 1911"
   ]
  },
  {
   "cell_type": "markdown",
   "metadata": {},
   "source": [
    "El 25 de Febrero de 1911, Fecha de nacimiento de Carlos Graef cayó en sabado. "
   ]
  },
  {
   "cell_type": "code",
   "execution_count": 11,
   "metadata": {},
   "outputs": [
    {
     "name": "stdout",
     "output_type": "stream",
     "text": [
      "         July 1913           \n",
      " Su  Mo  Tu  We  Th  Fr  Sa  \n",
      "        182 183 184 185 186  \n",
      "187 188 189 190 191 192 193  \n",
      "194 195 196 197 198 199 200  \n",
      "201 202 203 204 205 206 207  \n",
      "208 209 210 211 212          \n",
      "                             \n"
     ]
    }
   ],
   "source": [
    "%%bash\n",
    "cal -j 07 1913"
   ]
  },
  {
   "cell_type": "markdown",
   "metadata": {},
   "source": [
    "Alberto Barajas, nació el 17 de Julio de 1913, tal fecha cae en Jueves y el día es el 198 del año."
   ]
  },
  {
   "cell_type": "code",
   "execution_count": 12,
   "metadata": {},
   "outputs": [
    {
     "name": "stdout",
     "output_type": "stream",
     "text": [
      "Linux\n"
     ]
    }
   ],
   "source": [
    "%%bash\n",
    "uname"
   ]
  },
  {
   "cell_type": "code",
   "execution_count": 13,
   "metadata": {},
   "outputs": [
    {
     "name": "stdout",
     "output_type": "stream",
     "text": [
      "Linux Ignacio-PC 4.4.0-19041-Microsoft #488-Microsoft Mon Sep 01 13:43:00 PST 2020 x86_64 x86_64 x86_64 GNU/Linux\n"
     ]
    }
   ],
   "source": [
    "%%bash\n",
    "uname -a"
   ]
  },
  {
   "cell_type": "code",
   "execution_count": 14,
   "metadata": {},
   "outputs": [
    {
     "name": "stdout",
     "output_type": "stream",
     "text": [
      "4.4.0-19041-Microsoft\n"
     ]
    }
   ],
   "source": [
    "%%bash\n",
    "uname -r"
   ]
  },
  {
   "cell_type": "markdown",
   "metadata": {},
   "source": [
    "Mi versión de Kernel es 4.4.0-19041-Microsoft, el segundo digito al ser par indica que es de producción."
   ]
  },
  {
   "cell_type": "markdown",
   "metadata": {},
   "source": [
    "Manejo e Información de Directorios y Archivos. "
   ]
  },
  {
   "cell_type": "code",
   "execution_count": 11,
   "metadata": {},
   "outputs": [
    {
     "data": {
      "text/plain": [
       "'C:\\\\Users\\\\Ignacio\\\\Documents\\\\Pochas\\\\Computacion'"
      ]
     },
     "execution_count": 11,
     "metadata": {},
     "output_type": "execute_result"
    }
   ],
   "source": [
    "pwd"
   ]
  },
  {
   "cell_type": "code",
   "execution_count": 3,
   "metadata": {},
   "outputs": [],
   "source": [
    "%%bash\n",
    "mkdir susanaregalado"
   ]
  },
  {
   "cell_type": "code",
   "execution_count": 2,
   "metadata": {},
   "outputs": [],
   "source": [
    "%%bash\n",
    "cd /mnt/c/Users/Ignacio/Documents/Pochas/Computacion/susanaregalado"
   ]
  },
  {
   "cell_type": "code",
   "execution_count": 13,
   "metadata": {},
   "outputs": [],
   "source": [
    "%%bash \n",
    "mkdir regalado"
   ]
  },
  {
   "cell_type": "code",
   "execution_count": 16,
   "metadata": {},
   "outputs": [],
   "source": [
    "%%bash\n",
    "mkdir espino"
   ]
  },
  {
   "cell_type": "code",
   "execution_count": 1,
   "metadata": {},
   "outputs": [],
   "source": [
    "%%bash \n",
    "touch ola"
   ]
  },
  {
   "cell_type": "code",
   "execution_count": 4,
   "metadata": {},
   "outputs": [],
   "source": [
    "%%bash \n",
    "touch .ola"
   ]
  },
  {
   "cell_type": "markdown",
   "metadata": {},
   "source": [
    "El comando cd ~ nos manda a la raíz del sistema."
   ]
  },
  {
   "cell_type": "code",
   "execution_count": 5,
   "metadata": {},
   "outputs": [
    {
     "name": "stdout",
     "output_type": "stream",
     "text": [
      ".:\n",
      "Computacion2020-8093-master.zip\n",
      "Julia.jl\n",
      "LINUX_ComandosBasicos.ipynb\n",
      "LINUX_PrimerosComandos.ipynb\n",
      "P1.ipynb\n",
      "Practica 1, Regalado Espino Cinthya Susana.ipynb\n",
      "Project.toml\n",
      "README.md\n",
      "Tarea 1 computaciÃ³n\n",
      "apt.txt\n",
      "requirements.txt\n",
      "susanaregalado\n",
      "\n",
      "./Tarea 1 computaciÃ³n:\n",
      "InstalaciÃ³n de Bash y Julia en Jupyter Lab..jpeg\n",
      "Tarea 1. Regalado Espino Cinthya Susana..ipynb\n",
      "\n",
      "./susanaregalado:\n",
      "espino\n",
      "regalado\n",
      "\n",
      "./susanaregalado/espino:\n",
      "ola\n",
      "\n",
      "./susanaregalado/regalado:\n"
     ]
    }
   ],
   "source": [
    "%%bash \n",
    "ls -R"
   ]
  },
  {
   "cell_type": "markdown",
   "metadata": {},
   "source": [
    "Lo que sucede con el archivo touch .ola es que se encuentra oculto en el directorio."
   ]
  },
  {
   "cell_type": "markdown",
   "metadata": {},
   "source": [
    "Para poder ver este archivo se necesita utilizar el comando ls -a. "
   ]
  },
  {
   "cell_type": "code",
   "execution_count": null,
   "metadata": {},
   "outputs": [],
   "source": []
  }
 ],
 "metadata": {
  "kernelspec": {
   "display_name": "Python 3",
   "language": "python",
   "name": "python3"
  },
  "language_info": {
   "codemirror_mode": {
    "name": "ipython",
    "version": 3
   },
   "file_extension": ".py",
   "mimetype": "text/x-python",
   "name": "python",
   "nbconvert_exporter": "python",
   "pygments_lexer": "ipython3",
   "version": "3.8.3"
  }
 },
 "nbformat": 4,
 "nbformat_minor": 4
}
