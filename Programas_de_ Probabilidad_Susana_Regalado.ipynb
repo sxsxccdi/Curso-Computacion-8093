{
 "cells": [
  {
   "cell_type": "markdown",
   "metadata": {},
   "source": [
    "Hacer un programa que realice una grafica del valor al que converge la probabilidad de tirar una moneda N veces (hay un resultado para Águila y uno para Sol).\n"
   ]
  },
  {
   "cell_type": "code",
   "execution_count": 1,
   "metadata": {},
   "outputs": [],
   "source": [
    "import numpy as np\n",
    "import random as rnd\n",
    "import matplotlib.pyplot as plt "
   ]
  },
  {
   "cell_type": "code",
   "execution_count": 9,
   "metadata": {},
   "outputs": [
    {
     "name": "stdout",
     "output_type": "stream",
     "text": [
      "n: 1000\n"
     ]
    }
   ],
   "source": [
    "moneda = ['águila','sol']\n",
    "n = int(input(\"n: \"))\n",
    "# Es el número de veces que arrojará la moneda\n"
   ]
  },
  {
   "cell_type": "code",
   "execution_count": null,
   "metadata": {},
   "outputs": [],
   "source": [
    "# Valores en x\n",
    "x = []\n",
    "\n",
    "# Valores en y\n",
    "águila = []\n",
    "sol = []\n",
    "\n",
    "#Listas de probabilidades para águila y sol."
   ]
  },
  {
   "cell_type": "code",
   "execution_count": 12,
   "metadata": {},
   "outputs": [
    {
     "name": "stdout",
     "output_type": "stream",
     "text": [
      "0.535\n",
      "0.465\n"
     ]
    }
   ],
   "source": [
    "A = 0 \n",
    "S = 0\n",
    "# Conteos de águila y sol\n",
    "for i in range(1,n+1):\n",
    "    tiro = rnd.choice(moneda)\n",
    "    if tiro == 'águila':\n",
    "        A += 1\n",
    "    else:\n",
    "        S += 1\n",
    "    x.append(i) #Valores en x\n",
    "    \n",
    "    pA = A/i \n",
    "    águila.append(pA)\n",
    "    \n",
    "    pS = S/i\n",
    "    sol.append(pS)\n",
    "    #Probabilidad de sacar águila y sol\n",
    "    \n",
    "print(pS) \n",
    "print(pA)"
   ]
  },
  {
   "cell_type": "code",
   "execution_count": 13,
   "metadata": {},
   "outputs": [
    {
     "data": {
      "image/png": "[encoded data removed]",
      "text/plain": [
       "<Figure size 432x288 with 1 Axes>"
      ]
     },
     "metadata": {
      "needs_background": "light"
     },
     "output_type": "display_data"
    }
   ],
   "source": [
    "plt.xlim(0,n + 1)\n",
    "plt.ylim(0,1.1)\n",
    "plt.title(\"Cálculo de la probabilidad de obtener águila\")\n",
    "plt.xlabel(\"n\")\n",
    "plt.ylabel(\"$águila$\")\n",
    "plt.plot(x, águila, \".\", color = \"orange\", label= 'águilas')\n",
    "plt.plot(x, sol, \".\", color = \"pink\", label= 'soles')\n",
    "plt.axhline(y = 0.5, xmin = 0, xmax = n + 1)\n",
    "plt.legend(loc=0)\n",
    "plt.show()"
   ]
  },
  {
   "cell_type": "markdown",
   "metadata": {},
   "source": [
    "Hacer un programa que realice  una grafica del valor al que converge la probabilidad de sacar un 3 al tirar un dado de 6 caras N veces."
   ]
  },
  {
   "cell_type": "code",
   "execution_count": 23,
   "metadata": {},
   "outputs": [
    {
     "name": "stdout",
     "output_type": "stream",
     "text": [
      "n: 100\n"
     ]
    }
   ],
   "source": [
    "dado = [1,2,3,4,5,6]\n",
    "n = int(input(\"n: \"))\n",
    "# Es el número de veces que arrojará el dado\n"
   ]
  },
  {
   "cell_type": "code",
   "execution_count": 24,
   "metadata": {},
   "outputs": [],
   "source": [
    "# Valores en x\n",
    "x = []\n",
    "\n",
    "# Valores en y\n",
    "tres = []\n"
   ]
  },
  {
   "cell_type": "code",
   "execution_count": 25,
   "metadata": {},
   "outputs": [],
   "source": [
    "T = 0 \n",
    "# Conteos\n",
    "for i in range(1,n+1):\n",
    "    tiro = rnd.choice(dado)\n",
    "    if tiro == 3:\n",
    "        T += 1\n",
    "   \n",
    "    x.append(i) # Valores en x\n",
    "    \n",
    "    pT = T/i \n",
    "    tres.append(pT)\n",
    "    \n",
    "    # Probabilidad de obtener 3\n",
    "    "
   ]
  },
  {
   "cell_type": "code",
   "execution_count": 28,
   "metadata": {},
   "outputs": [
    {
     "data": {
      "image/png": "[encoded data removed]",
      "text/plain": [
       "<Figure size 432x288 with 1 Axes>"
      ]
     },
     "metadata": {
      "needs_background": "light"
     },
     "output_type": "display_data"
    }
   ],
   "source": [
    "# Gráfica\n",
    "plt.xlim(0,n + 1)\n",
    "plt.ylim(0,1.1)\n",
    "plt.title(\"Cálculo de la probabilidad de obtener 3\")\n",
    "plt.xlabel(\"n\")\n",
    "plt.ylabel(\"$p(3)$\")\n",
    "plt.plot(x, tres, \".\", color = \"orange\", label= 'tres')\n",
    "plt.axhline(y = 0.16666, xmin = 0, xmax = n + 1)\n",
    "plt.legend(loc=0)\n",
    "plt.show()"
   ]
  },
  {
   "cell_type": "markdown",
   "metadata": {},
   "source": [
    "Hacer un programa que realice  una grafica del valor al que converge la probabilidad de obtener 8 al tirar 2 dados de 6 caras N veces."
   ]
  },
  {
   "cell_type": "code",
   "execution_count": 44,
   "metadata": {},
   "outputs": [
    {
     "name": "stdout",
     "output_type": "stream",
     "text": [
      "n: 1000\n"
     ]
    }
   ],
   "source": [
    "dado = [1,2,3,4,5,6]\n",
    "suma_dado = []\n",
    "n = int(input(\"n: \"))\n",
    "# Es el número de veces que arrojará el dado"
   ]
  },
  {
   "cell_type": "code",
   "execution_count": 45,
   "metadata": {},
   "outputs": [],
   "source": [
    "# Valores en x\n",
    "x = []\n",
    "\n",
    "# Valores en y\n",
    "ocho = []\n"
   ]
  },
  {
   "cell_type": "code",
   "execution_count": 46,
   "metadata": {},
   "outputs": [],
   "source": [
    "cont_Ocho = 0 \n",
    "# Conteos de los dados\n",
    "for i in range(1,n+1):\n",
    "    tiro_dado1 = rnd.choice(dado)\n",
    "    tiro_dado2 = rnd.choice(dado)\n",
    "    suma_tiros = tiro_dado1 + tiro_dado2 \n",
    "    if suma_tiros == 8: \n",
    "        cont_Ocho += 1\n",
    "    x.append(i)\n",
    "    p8 = cont_Ocho/i\n",
    "    ocho.append(p8)\n"
   ]
  },
  {
   "cell_type": "code",
   "execution_count": 47,
   "metadata": {},
   "outputs": [
    {
     "data": {
      "image/png": "[encoded data removed]",
      "text/plain": [
       "<Figure size 432x288 with 1 Axes>"
      ]
     },
     "metadata": {
      "needs_background": "light"
     },
     "output_type": "display_data"
    }
   ],
   "source": [
    "# Grafica\n",
    "plt.xlim(0,n + 1)\n",
    "plt.ylim(0,1.1)\n",
    "plt.title(\"Cálculo de la probabilidad de obtener 8\")\n",
    "plt.xlabel(\"n\")\n",
    "plt.ylabel(\"$p(8)$\")\n",
    "plt.plot(x,ocho , \".\", color = \"orange\", label= 'ocho')\n",
    "plt.axhline(y = 0.138888, xmin = 0, xmax = n + 1)\n",
    "plt.legend(loc=0)\n",
    "plt.show()"
   ]
  }
 ],
 "metadata": {
  "kernelspec": {
   "display_name": "Python 3",
   "language": "python",
   "name": "python3"
  },
  "language_info": {
   "codemirror_mode": {
    "name": "ipython",
    "version": 3
   },
   "file_extension": ".py",
   "mimetype": "text/x-python",
   "name": "python",
   "nbconvert_exporter": "python",
   "pygments_lexer": "ipython3",
   "version": "3.8.3"
  }
 },
 "nbformat": 4,
 "nbformat_minor": 4
}
